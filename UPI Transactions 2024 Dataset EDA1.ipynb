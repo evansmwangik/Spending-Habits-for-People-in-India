{
 "cells": [
  {
   "cell_type": "markdown",
   "id": "6a372bdf",
   "metadata": {},
   "source": [
    "# Modules Importation and File Reading"
   ]
  },
  {
   "cell_type": "code",
   "execution_count": null,
   "id": "eb7928e8",
   "metadata": {},
   "outputs": [],
   "source": [
    "import pandas as pd\n",
    "import matplotlib.pyplot as plt\n",
    "import seaborn as sns\n",
    "from datetime import datetime as dt, time\n",
    "\n",
    "file_location = r\"C:\\Users\\Hp\\Downloads\\archive\\upi_transactions_2024.csv\""
   ]
  },
  {
   "cell_type": "code",
   "execution_count": null,
   "id": "46275680",
   "metadata": {},
   "outputs": [],
   "source": [
    "df = pd.read_csv(file_location)\n",
    "df"
   ]
  },
  {
   "cell_type": "markdown",
   "id": "525c185f",
   "metadata": {},
   "source": [
    "# Understanding the Data and Cleaning it"
   ]
  },
  {
   "cell_type": "code",
   "execution_count": null,
   "id": "23a42b86",
   "metadata": {},
   "outputs": [],
   "source": [
    "df.info()\n",
    "df.describe()\n",
    "df.nunique()\n",
    "\n",
    "# Align the dtypes for timestamp"
   ]
  },
  {
   "cell_type": "code",
   "execution_count": null,
   "id": "b382304b",
   "metadata": {},
   "outputs": [],
   "source": [
    "# Drop any duplicated rows\n",
    "df2 = df\n",
    "df2.drop_duplicates(inplace=True)\n",
    "# No duplicated values in our dataset\n",
    "# Reformat the dtypes\n",
    "df2.timestamp = pd.to_datetime(df2.timestamp)\n",
    "df2.head()\n",
    "\n",
    "df2.info()\n",
    "# check if we have the right hour of day when compared to the hour found in the timestamp\n",
    "df2.spending_hour = df2.timestamp.dt.hour\n",
    "df2[\"transaction id\"].loc[df2.hour_of_day != df2.spending_hour]\n",
    "# No error found in hour_of_day in relation to the timestamp"
   ]
  },
  {
   "cell_type": "code",
   "execution_count": null,
   "id": "71bef9db",
   "metadata": {},
   "outputs": [],
   "source": [
    "# Failed Transactions\n",
    "# Flagged Fraud Transactions\n",
    "df3 = df2\n",
    "failed_transactions = df3[df3[\"transaction_status\"] != \"SUCCESS\"].reset_index(drop=True)\n",
    "failed_transactions[\"transaction id\"].count()\n",
    "# 12376 transactions failed\n",
    "flagged_transactions = df3[df3[\"fraud_flag\"] == 1].reset_index(drop=True)\n",
    "flagged_transactions[\"transaction id\"].count()\n",
    "# 480 flagged transactions\n"
   ]
  },
  {
   "cell_type": "markdown",
   "id": "e8b1b0bc",
   "metadata": {},
   "source": [
    "# Data Exploration"
   ]
  },
  {
   "cell_type": "code",
   "execution_count": null,
   "id": "b9ae6466",
   "metadata": {},
   "outputs": [],
   "source": [
    "# Consumer Analytics: Analyze spending patterns by time, category, and demographics. \"Morning, Afternoon, Evening/Night\"\n",
    "morning = time(6, 0, 0)\n",
    "afternoon = time(12, 0, 0)\n",
    "evening_night = time(16, 0, 0)\n",
    "\n",
    "\n",
    "def classify_time(t):\n",
    "    t = t.time()  # Extract time from datetime\n",
    "    if morning <= t < afternoon:\n",
    "        return 'morning'\n",
    "    elif afternoon <= t < evening_night:\n",
    "        return 'afternoon'\n",
    "    else:\n",
    "        return 'evening/night'\n",
    "\n",
    "\n",
    "df3[\"spending_timeclass\"] = df3['timestamp'].apply(classify_time)\n",
    "transaction_count_by_timeclass = df3[['transaction id', 'spending_timeclass']].groupby(\"spending_timeclass\", as_index=False).count()\n",
    "# df3.columns\n",
    "transaction_count_by_timeclass.sort_values(\"transaction id\", ascending=False, inplace=True)\n",
    "sns.barplot(data=transaction_count_by_timeclass, x=\"spending_timeclass\", y=\"transaction id\", hue=\"spending_timeclass\")\n",
    "plt.ylabel(\"Transactions Count\")\n",
    "plt.xlabel(\"Timeclass\")\n",
    "plt.title(\"Transactions Count by Timeclass\")\n",
    "_ = plt.xticks(rotation=0)"
   ]
  },
  {
   "cell_type": "code",
   "execution_count": null,
   "id": "b31d89dc",
   "metadata": {},
   "outputs": [],
   "source": [
    "sum_by_timeclass = df3[['amount (INR)', 'spending_timeclass']].groupby(\"spending_timeclass\").sum().sort_values('amount (INR)', ascending=False)\n",
    "# df3.columns\n",
    "sns.barplot(data=sum_by_timeclass, x=\"spending_timeclass\", y=\"amount (INR)\", hue=\"spending_timeclass\")\n",
    "\n"
   ]
  },
  {
   "cell_type": "code",
   "execution_count": null,
   "id": "a181b7de",
   "metadata": {
    "vscode": {
     "languageId": "ruby"
    }
   },
   "outputs": [],
   "source": [
    "df4 = df3[['transaction id', 'amount (INR)', 'spending_timeclass', \"merchant_category\", 'transaction type']]\n",
    "shopped_categories_by_timeclass = df4.groupby(['spending_timeclass', \"merchant_category\"], as_index=False).sum(numeric_only=True).sort_values([\"spending_timeclass\", \"amount (INR)\"], ascending=[False, False])\n",
    "shopped_categories_by_timeclass = shopped_categories_by_timeclass.pivot(index=\"spending_timeclass\", columns=\"merchant_category\", values='amount (INR)')\n",
    "\n",
    "shopped_categories_by_timeclass"
   ]
  },
  {
   "cell_type": "code",
   "execution_count": null,
   "id": "25ce0091",
   "metadata": {},
   "outputs": [],
   "source": [
    "shopped_categories_by_timeclass.plot(kind=\"bar\")\n",
    "_ = plt.xticks(rotation=0)\n",
    "# Shopping tops in the three defined times of day, followed by grocery"
   ]
  },
  {
   "cell_type": "code",
   "execution_count": null,
   "id": "3b4d170c",
   "metadata": {},
   "outputs": [],
   "source": [
    "df2.columns"
   ]
  },
  {
   "cell_type": "code",
   "execution_count": null,
   "id": "9fd2c020",
   "metadata": {},
   "outputs": [],
   "source": [
    "df5 = df3[['transaction id', 'amount (INR)', 'spending_timeclass', \"merchant_category\", 'transaction type', \"is_weekend\"]]\n",
    "# weekend spending\n",
    "weekends_data = df5[df5.is_weekend == 1]\n",
    "weekends_spending = weekends_data[[\"spending_timeclass\", \"merchant_category\", 'amount (INR)']].groupby([\"spending_timeclass\", \"merchant_category\"], as_index=False).sum(numeric_only=True)\n",
    "weekends_spending.pivot(index=\"spending_timeclass\", columns=\"merchant_category\", values='amount (INR)').plot(kind=\"bar\", figsize=(12, 7), ylabel=\"Total Spent\", xlabel=\"Time Class\")\n",
    "_ = plt.xticks(rotation=0)\n"
   ]
  },
  {
   "cell_type": "code",
   "execution_count": null,
   "id": "be2f45b0",
   "metadata": {},
   "outputs": [],
   "source": [
    "# monthly spend\n",
    "df6 = df3\n",
    "df6.columns\n",
    "# df6[\"year\"] = df6.timestamp.dt.year\n",
    "df6[\"month\"] = df6.timestamp.dt.month\n",
    "df6[['transaction id', 'amount (INR)', 'month']].groupby(\"month\").sum(numeric_only=True).plot(kind=\"line\")"
   ]
  },
  {
   "cell_type": "code",
   "execution_count": null,
   "id": "7aebf941",
   "metadata": {},
   "outputs": [],
   "source": [
    "device_type_usage = df6[[\"device_type\", 'transaction id']].groupby(\"device_type\", as_index=False).count().sort_values(\"transaction id\", ascending=False)\n",
    "# Most transactions are made through Android devices\n",
    "# df6.columns\n",
    "device_type_usage.set_index(\"device_type\").plot(kind=\"pie\", y=\"transaction id\", ylabel=\"\", title=\"General Phone Type Usage\")\n"
   ]
  },
  {
   "cell_type": "code",
   "execution_count": null,
   "id": "89ea4068",
   "metadata": {},
   "outputs": [],
   "source": [
    "network_type_usage = df6[[\"device_type\", 'transaction id', 'network_type']].groupby(\"network_type\").count().sort_values(\"transaction id\", ascending=False)\n",
    "network_type_usage.plot(kind=\"pie\", y=\"transaction id\", ylabel=\"\", title=\"General Network Usage Across All Devices\")\n"
   ]
  },
  {
   "cell_type": "code",
   "execution_count": null,
   "id": "85d5d65d",
   "metadata": {},
   "outputs": [],
   "source": [
    "devices_and_networks = df6[['transaction id', 'device_type', 'network_type']].groupby(['device_type', \"network_type\"], as_index=False).count().sort_values(\"transaction id\", ascending=False)\n",
    "# devices_and_networks.pivot(index=\"device_type\", values=\"transaction id\", columns=\"network_type\")\n",
    "merged_df = devices_and_networks.merge(device_type_usage, how='cross', suffixes=(\"_l\", \"_r\"))\n",
    "merged_df = merged_df[merged_df[\"device_type_l\"] == merged_df[\"device_type_r\"]]\n",
    "merged_df[\"% Usage\"] = round((merged_df[\"transaction id_l\"]/merged_df[\"transaction id_r\"])*100, 2)\n",
    "percentage_device_network_usage = merged_df[[\"device_type_l\", \"network_type\", \"transaction id_l\", \"% Usage\"]].reset_index(drop=True)\n",
    "percentage_device_network_usage1 = percentage_device_network_usage.sort_values([\"device_type_l\", \"transaction id_l\"], ascending=[True, False]).pivot(index=\"network_type\", columns=\"device_type_l\", values=\"transaction id_l\")\n",
    "percentage_device_network_usage1.plot(kind=\"bar\")\n",
    "_ = plt.xticks(rotation=0)\n",
    "percentage_device_network_usage2 = percentage_device_network_usage.sort_values([\"device_type_l\", \"transaction id_l\"], ascending=[True, False]).pivot(index=\"network_type\", columns=\"device_type_l\", values=\"% Usage\")\n",
    "percentage_device_network_usage2.plot(kind=\"bar\")\n",
    "_ = plt.xticks(rotation=0)"
   ]
  },
  {
   "cell_type": "code",
   "execution_count": null,
   "id": "bdfb3b99",
   "metadata": {},
   "outputs": [],
   "source": []
  }
 ],
 "metadata": {
  "kernelspec": {
   "display_name": "base",
   "language": "python",
   "name": "python3"
  },
  "language_info": {
   "codemirror_mode": {
    "name": "ipython",
    "version": 3
   },
   "file_extension": ".py",
   "mimetype": "text/x-python",
   "name": "python",
   "nbconvert_exporter": "python",
   "pygments_lexer": "ipython3",
   "version": "3.12.7"
  }
 },
 "nbformat": 4,
 "nbformat_minor": 5
}
